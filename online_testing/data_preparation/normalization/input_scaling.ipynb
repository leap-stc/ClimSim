{
 "cells": [
  {
   "cell_type": "markdown",
   "id": "76d6d067-612e-4293-8f34-a66fb3d8b18e",
   "metadata": {},
   "source": [
    "# Input normalization"
   ]
  },
  {
   "cell_type": "code",
   "execution_count": 1,
   "id": "6f803c16-a034-43d3-ac2a-88cab743826f",
   "metadata": {
    "tags": []
   },
   "outputs": [],
   "source": [
    "import os\n",
    "import glob\n",
    "import xarray as xr\n",
    "import numpy as np\n",
    "from IPython.display import display, Latex"
   ]
  },
  {
   "cell_type": "markdown",
   "id": "a1be16c8-f1f5-4c0e-85d8-844bb096450f",
   "metadata": {},
   "source": [
    "Here we will built upon the input scaling files provided by the existing input_mean/max/min.nc. And we will use the output_scale_std_nopenalty.nc which calculates the st.d. of each level for each output variable (see the other output scaling notebook for details)."
   ]
  },
  {
   "cell_type": "code",
   "execution_count": 2,
   "id": "ad1f8ff4-58ef-46aa-a46e-db1cc4e1e641",
   "metadata": {
    "tags": []
   },
   "outputs": [],
   "source": [
    "path = '/global/homes/z/zeyuanhu/nvidia_codes/Climsim_private/preprocessing/normalizations/'\n",
    "\n",
    "dsm = xr.open_dataset(path+'inputs/input_mean.nc')\n",
    "dsa = xr.open_dataset(path+'inputs/input_max.nc')\n",
    "dsi = xr.open_dataset(path+'inputs/input_min.nc')\n",
    "dso = xr.open_dataset(path+'outputs/output_scale_std_nopenalty.nc')"
   ]
  },
  {
   "cell_type": "markdown",
   "id": "04968940-f5bf-4a79-b2a4-23e4f6ce5093",
   "metadata": {},
   "source": [
    "Below is the list of input features that will be used in the v5 Unet, which only use and predict total cloud (liquid+ice) information. We will modify/expand the original input scaling files according to the normalization method listed below. For variables using (x-mean)/(max-min), we calculate mean,max,min per-level and save as usual. For variables with blank normalization, we simply set mean=0, max=1, min=0. For variables using x/std, we set mean=0, max=1/std, min=0. For variables using x/(max-min), we set mean = 0 and save max/min as usual. For cloud (liquid, ice, and total cloud) input, we have a separate exponential transformation, and we set mean=0, max=1, min=0."
   ]
  },
  {
   "cell_type": "markdown",
   "id": "8a1338c8-ad4d-44f4-bff3-2893f5bdee54",
   "metadata": {
    "tags": []
   },
   "source": [
    "| **Variable**                   | **Units**      | **Description**                               | **Normalization**          |\n",
    "|--------------------------------|----------------|-----------------------------------------------|----------------------------|\n",
    "| $T(z)$                         | K              | Temperature                                   | (x-mean)/(max-min)         |\n",
    "| $RH(z)$                        |                | Relative humidity                             |                            |\n",
    "| $liq\\_partition(z)$            |                | Fraction of liquid cloud                      |                            |\n",
    "| $q_n(z)$                       | kg/kg          | Total cloud (liquid + ice) mixing ratio       | 1 - exp(-$\\lambda x$)      |\n",
    "| $u(z)$                         | m/s            | Zonal wind                                    | (x-mean)/(max-min)         |\n",
    "| $v(z)$                         | m/s            | Meridional wind                               | (x-mean)/(max-min)         |\n",
    "| $dT_{adv}(z,t_0,t_{-1})$       | K/s            | Large-scale forcing of temperature            | x/(max-min)                |\n",
    "| $dq_{T,adv}(z,t_0,t_{-1})$     | kg/kg/s        | Large-scale forcing of total water            | x/(max-min)                |\n",
    "| $du_{adv}(z,t_0,t_{-1})$       | m/s\\textsuperscript{2} | Large-scale forcing of zonal wind        | x/(max-min)                |\n",
    "| $dT(z,t_{-1},t_{-2})$          | K/s            | Temperature tendency                          | x/std                      |\n",
    "| $dq_v(z,t_{-1},t_{-2})$        | kg/kg/s        | Water vapor tendency                          | x/std                      |\n",
    "| $dq_n(z,t_{-1},t_{-2})$        | kg/kg/s        | Total cloud tendency                          | x/std                      |\n",
    "| $du(z,t_{-1},t_{-2})$          | m/s\\textsuperscript{2} | Zonal wind tendency                      | x/std                      |\n",
    "| O3$(z)$                        | mol/mol        | Ozone volume mixing ratio                     | (x-mean)/(max-min)         |\n",
    "| CH4$(z)$                       | mol/mol        | Methane volume mixing ratio                   | (x-mean)/(max-min)         |\n",
    "| N2O$(z)$                       | mol/mol        | Nitrous volume mixing ratio                   | (x-mean)/(max-min)         |\n",
    "| PS                             | Pa             | Surface pressure                              | (x-mean)/(max-min)         |\n",
    "| SOLIN                          | W/m\\textsuperscript{2} | Solar insolation                         | x/(max-min)                |\n",
    "| LHFLX                          | W/m\\textsuperscript{2} | Surface latent heat flux                  | x/(max-min)                |\n",
    "| SHFLX                          | W/m\\textsuperscript{2} | Surface sensible heat flux                 | x/(max-min)                |\n",
    "| TAUX                           | W/m\\textsuperscript{2} | Zonal surface stress                      | (x-mean)/(max-min)         |\n",
    "| TAUY                           | W/m\\textsuperscript{2} | Meridional surface stress                 | (x-mean)/(max-min)         |\n",
    "| COSZRS                         |                | Cosine of solar zenith angle                  | (x-mean)/(max-min)         |\n",
    "| ALDIF                          |                | Albedo for diffuse longwave radiation         | (x-mean)/(max-min)         |\n",
    "| ALDIR                          |                | Albedo for direct longwave radiation          | (x-mean)/(max-min)         |\n",
    "| ASDIF                          |                | Albedo for diffuse shortwave radiation        | (x-mean)/(max-min)         |\n",
    "| ASDIR                          |                | Albedo for direct shortwave radiation         | (x-mean)/(max-min)         |\n",
    "| LWUP                           | W/m\\textsuperscript{2} | Upward longwave flux                      | (x-mean)/(max-min)         |\n",
    "| ICEFRAC                        |                | Sea-ice area fraction                         |                            |\n",
    "| LANDFRAC                       |                | Land area fraction                            |                            |\n",
    "| OCNFRAC                        |                | Ocean area fraction                           |                            |\n",
    "| SNOWHLAND                      | m              | Snow depth over land                          | (x-mean)/(max-min)         |\n",
    "| cos(lat)                       |                | Cosine of latitude                            |                            |\n",
    "| sin(lat)                       |                | Sine of latitude                              |                            |\n",
    "| **Footnote**                   |                | $^{a}$Footnote text here.                     |                            |\n"
   ]
  },
  {
   "cell_type": "markdown",
   "id": "e427abe8-b2e6-4a05-8a04-26ec65307e07",
   "metadata": {
    "tags": []
   },
   "source": [
    "## First retrieve the large-scale forcings from the expanded training data and calculate their mean/max/min"
   ]
  },
  {
   "cell_type": "code",
   "execution_count": 3,
   "id": "1f68154d-57a4-4b95-a200-8d9887186867",
   "metadata": {},
   "outputs": [
    {
     "data": {
      "text/plain": [
       "210236"
      ]
     },
     "execution_count": 3,
     "metadata": {},
     "output_type": "execute_result"
    }
   ],
   "source": [
    "# get the whole input file list\n",
    "base_dir = \"/global/homes/z/zeyuanhu/hugging/E3SM-MMF_ne4/train\"\n",
    "nc_files_in = sorted(glob.glob(os.path.join(base_dir, '**/E3SM-MMF.ml2steploc.*.nc'), recursive=True))\n",
    "len(nc_files_in)"
   ]
  },
  {
   "cell_type": "code",
   "execution_count": 4,
   "id": "6ed6cac8-d6ed-4c85-b9ae-4a07b7019e62",
   "metadata": {},
   "outputs": [],
   "source": [
    "# we used stride of 5 to sample a total of 40k time steps in our actual work\n",
    "# ntime = 40000\n",
    "# stride = 5\n",
    "\n",
    "# below values are used here just as a quick example\n",
    "ntime = 500\n",
    "stride = 400 \n",
    "\n",
    "t_dyn_tmp = np.zeros((ntime,60,384))\n",
    "u_dyn_tmp = np.zeros((ntime,60,384))\n",
    "q0_dyn_tmp = np.zeros((ntime,60,384))\n",
    "\n",
    "for i in range(ntime):\n",
    "    ifile = stride*i\n",
    "    ds = xr.open_dataset(nc_files_in[ifile])\n",
    "    t_dyn_tmp[i,:,:] = ds['state_t_dyn']\n",
    "    u_dyn_tmp[i,:,:] = ds['state_u_dyn']\n",
    "    q0_dyn_tmp[i,:,:] = ds['state_q0_dyn']"
   ]
  },
  {
   "cell_type": "code",
   "execution_count": 5,
   "id": "c30e783a-3c60-4d15-9ce2-5248cfd89581",
   "metadata": {},
   "outputs": [],
   "source": [
    "t_dyn_mean = dsm['state_t'].copy()\n",
    "t_dyn_min = dsa['state_t'].copy()\n",
    "t_dyn_max = dsi['state_t'].copy()\n",
    "# t_dyn_mean[:] = np.mean(t_dyn_tmp, axis=(0,2))\n",
    "t_dyn_mean[:] = 0.0\n",
    "t_dyn_min[:] = np.min(t_dyn_tmp, axis=(0,2))\n",
    "t_dyn_max[:] = np.max(t_dyn_tmp, axis=(0,2))\n",
    "dsm['state_t_dyn'] = t_dyn_mean\n",
    "dsa['state_t_dyn'] = t_dyn_min\n",
    "dsi['state_t_dyn'] = t_dyn_max\n",
    "\n",
    "\n",
    "u_dyn_mean = dsm['state_t'].copy()\n",
    "u_dyn_min = dsa['state_t'].copy()\n",
    "u_dyn_max = dsi['state_t'].copy()\n",
    "# u_dyn_mean[:] = np.mean(u_dyn_tmp, axis=(0,2))\n",
    "u_dyn_mean[:] = 0.0\n",
    "u_dyn_min[:] = np.min(u_dyn_tmp, axis=(0,2))\n",
    "u_dyn_max[:] = np.max(u_dyn_tmp, axis=(0,2))\n",
    "dsm['state_u_dyn'] = u_dyn_mean\n",
    "dsa['state_u_dyn'] = u_dyn_min\n",
    "dsi['state_u_dyn'] = u_dyn_max\n",
    "\n",
    "q0_dyn_mean = dsm['state_t'].copy()\n",
    "q0_dyn_min = dsa['state_t'].copy()\n",
    "q0_dyn_max = dsi['state_t'].copy()\n",
    "# q0_dyn_mean[:] = np.mean(q0_dyn_tmp, axis=(0,2))\n",
    "q0_dyn_mean[:] = 0.0\n",
    "q0_dyn_min[:] = np.min(q0_dyn_tmp, axis=(0,2))\n",
    "q0_dyn_max[:] = np.max(q0_dyn_tmp, axis=(0,2))\n",
    "dsm['state_q0_dyn'] = q0_dyn_mean\n",
    "dsa['state_q0_dyn'] = q0_dyn_min\n",
    "dsi['state_q0_dyn'] = q0_dyn_max\n",
    "\n",
    "tm_state_t_dyn_m = dsm['state_t_dyn'].copy()\n",
    "tm_state_t_dyn_a = dsa['state_t_dyn'].copy()\n",
    "tm_state_t_dyn_i = dsi['state_t_dyn'].copy()\n",
    "tm_state_t_dyn_m[:]= 0.0\n",
    "dsm['tm_state_t_dyn'] = tm_state_t_dyn_m\n",
    "dsa['tm_state_t_dyn'] = tm_state_t_dyn_a\n",
    "dsi['tm_state_t_dyn'] = tm_state_t_dyn_i\n",
    "\n",
    "tm_state_q0_dyn_m = dsm['state_q0_dyn'].copy()\n",
    "tm_state_q0_dyn_a = dsa['state_q0_dyn'].copy()\n",
    "tm_state_q0_dyn_i = dsi['state_q0_dyn'].copy()\n",
    "tm_state_q0_dyn_m[:]= 0.0\n",
    "dsm['tm_state_q0_dyn'] = tm_state_q0_dyn_m\n",
    "dsa['tm_state_q0_dyn'] = tm_state_q0_dyn_a\n",
    "dsi['tm_state_q0_dyn'] = tm_state_q0_dyn_i\n",
    "\n",
    "tm_state_u_dyn_m = dsm['state_u_dyn'].copy()\n",
    "tm_state_u_dyn_a = dsa['state_u_dyn'].copy()\n",
    "tm_state_u_dyn_i = dsi['state_u_dyn'].copy()\n",
    "tm_state_u_dyn_m[:]= 0.0\n",
    "dsm['tm_state_u_dyn'] = tm_state_u_dyn_m\n",
    "dsa['tm_state_u_dyn'] = tm_state_u_dyn_a\n",
    "dsi['tm_state_u_dyn'] = tm_state_u_dyn_i"
   ]
  },
  {
   "cell_type": "markdown",
   "id": "0181bc00-b302-4ad3-b68d-9c51324f64d7",
   "metadata": {},
   "source": [
    "## update the input max/min/mean of other variables based on the defined normalization method listed in the Table above."
   ]
  },
  {
   "cell_type": "code",
   "execution_count": 6,
   "id": "ebc4732d-76b0-4116-9896-233ada319ce3",
   "metadata": {
    "tags": []
   },
   "outputs": [],
   "source": [
    "dsm['state_q0002'][:] = 0.0\n",
    "dsa['state_q0002'][:] = 1.0\n",
    "dsi['state_q0002'][:] = 0.0\n",
    "\n",
    "dsm['state_q0003'][:] = 0.0\n",
    "dsa['state_q0003'][:] = 1.0\n",
    "dsi['state_q0003'][:] = 0.0\n",
    "\n",
    "state_rh_m = dsm['state_t'].copy()\n",
    "state_rh_a = dsa['state_t'].copy()\n",
    "state_rh_i = dsi['state_t'].copy()\n",
    "state_rh_m[:]= 0.0\n",
    "state_rh_a[:]= 1.0\n",
    "state_rh_i[:]= 0.0\n",
    "dsm['state_rh'] = state_rh_m\n",
    "dsa['state_rh'] = state_rh_a\n",
    "dsi['state_rh'] = state_rh_i\n",
    "\n",
    "state_qn_m = dsm['state_t'].copy()\n",
    "state_qn_a = dsa['state_t'].copy()\n",
    "state_qn_i = dsi['state_t'].copy()\n",
    "state_qn_m[:]= 0.0\n",
    "state_qn_a[:]= 1.0\n",
    "state_qn_i[:]= 0.0\n",
    "dsm['state_qn'] = state_qn_m\n",
    "dsa['state_qn'] = state_qn_a\n",
    "dsi['state_qn'] = state_qn_i"
   ]
  },
  {
   "cell_type": "code",
   "execution_count": 7,
   "id": "a05fd4e8-63fb-4e8e-8f13-e87e5c36f88a",
   "metadata": {
    "tags": []
   },
   "outputs": [],
   "source": [
    "state_t_prvphy_m = dsm['state_t'].copy()\n",
    "state_t_prvphy_a = dsa['state_t'].copy()\n",
    "state_t_prvphy_i = dsi['state_t'].copy()\n",
    "state_t_prvphy_m[:]= 0.0\n",
    "state_t_prvphy_a[:] = 1./dso['ptend_t'] #dso is 1/std, so this is std\n",
    "state_t_prvphy_i[:]= 0.0\n",
    "dsm['state_t_prvphy'] = state_t_prvphy_m\n",
    "dsa['state_t_prvphy'] = state_t_prvphy_a\n",
    "dsi['state_t_prvphy'] = state_t_prvphy_i\n",
    "\n",
    "state_q0001_prvphy_m = dsm['state_q0001'].copy()\n",
    "state_q0001_prvphy_a = dsa['state_q0001'].copy()\n",
    "state_q0001_prvphy_i = dsi['state_q0001'].copy()\n",
    "state_q0001_prvphy_m[:]= 0.0\n",
    "state_q0001_prvphy_a[:] = 1./dso['ptend_q0001'] #dso is 1/std, so this is std\n",
    "state_q0001_prvphy_i[:]= 0.0\n",
    "dsm['state_q0001_prvphy'] = state_q0001_prvphy_m\n",
    "dsa['state_q0001_prvphy'] = state_q0001_prvphy_a\n",
    "dsi['state_q0001_prvphy'] = state_q0001_prvphy_i\n",
    "\n",
    "state_qn_prvphy_m = dsm['state_q0001'].copy()\n",
    "state_qn_prvphy_a = dsa['state_q0001'].copy()\n",
    "state_qn_prvphy_i = dsi['state_q0001'].copy()\n",
    "state_qn_prvphy_m[:]= 0.0\n",
    "state_qn_prvphy_a[:] = 1./dso['ptend_qn'] #dso is 1/std, so this is std\n",
    "state_qn_prvphy_i[:]= 0.0\n",
    "dsm['state_qn_prvphy'] = state_qn_prvphy_m\n",
    "dsa['state_qn_prvphy'] = state_qn_prvphy_a\n",
    "dsi['state_qn_prvphy'] = state_qn_prvphy_i\n",
    "\n",
    "state_q0002_prvphy_m = dsm['state_q0002'].copy()\n",
    "state_q0002_prvphy_a = dsa['state_q0002'].copy()\n",
    "state_q0002_prvphy_i = dsi['state_q0002'].copy()\n",
    "state_q0002_prvphy_m[:]= 0.0\n",
    "state_q0002_prvphy_a[:] = 1./dso['ptend_q0002'] #dso is 1/std, so this is std\n",
    "state_q0002_prvphy_i[:]= 0.0\n",
    "dsm['state_q0002_prvphy'] = state_q0002_prvphy_m\n",
    "dsa['state_q0002_prvphy'] = state_q0002_prvphy_a\n",
    "dsi['state_q0002_prvphy'] = state_q0002_prvphy_i\n",
    "\n",
    "state_q0003_prvphy_m = dsm['state_q0003'].copy()\n",
    "state_q0003_prvphy_a = dsa['state_q0003'].copy()\n",
    "state_q0003_prvphy_i = dsi['state_q0003'].copy()\n",
    "state_q0003_prvphy_m[:]= 0.0\n",
    "state_q0003_prvphy_a[:] = 1./dso['ptend_q0003'] #dso is 1/std, so this is std\n",
    "state_q0003_prvphy_i[:]= 0.0\n",
    "dsm['state_q0003_prvphy'] = state_q0003_prvphy_m\n",
    "dsa['state_q0003_prvphy'] = state_q0003_prvphy_a\n",
    "dsi['state_q0003_prvphy'] = state_q0003_prvphy_i\n",
    "\n",
    "state_u_prvphy_m = dsm['state_u'].copy()\n",
    "state_u_prvphy_a = dsa['state_u'].copy()\n",
    "state_u_prvphy_i = dsi['state_u'].copy()\n",
    "state_u_prvphy_m[:]= 0.0\n",
    "state_u_prvphy_a[:] = 1./dso['ptend_u'] #dso is 1/std, so this is std\n",
    "state_u_prvphy_i[:]= 0.0\n",
    "dsm['state_u_prvphy'] = state_u_prvphy_m\n",
    "dsa['state_u_prvphy'] = state_u_prvphy_a\n",
    "dsi['state_u_prvphy'] = state_u_prvphy_i\n",
    "\n",
    "tm_state_t_prvphy_m = dsm['state_t_prvphy'].copy()\n",
    "tm_state_t_prvphy_a = dsa['state_t_prvphy'].copy()\n",
    "tm_state_t_prvphy_i = dsi['state_t_prvphy'].copy()\n",
    "dsm['tm_state_t_prvphy'] = tm_state_t_prvphy_m\n",
    "dsa['tm_state_t_prvphy'] = tm_state_t_prvphy_a\n",
    "dsi['tm_state_t_prvphy'] = tm_state_t_prvphy_i\n",
    "\n",
    "tm_state_q0001_prvphy_m = dsm['state_q0001_prvphy'].copy()\n",
    "tm_state_q0001_prvphy_a = dsa['state_q0001_prvphy'].copy()\n",
    "tm_state_q0001_prvphy_i = dsi['state_q0001_prvphy'].copy()\n",
    "dsm['tm_state_q0001_prvphy'] = tm_state_q0001_prvphy_m\n",
    "dsa['tm_state_q0001_prvphy'] = tm_state_q0001_prvphy_a\n",
    "dsi['tm_state_q0001_prvphy'] = tm_state_q0001_prvphy_i\n",
    "\n",
    "tm_state_qn_prvphy_m = dsm['state_qn_prvphy'].copy()\n",
    "tm_state_qn_prvphy_a = dsa['state_qn_prvphy'].copy()\n",
    "tm_state_qn_prvphy_i = dsi['state_qn_prvphy'].copy()\n",
    "dsm['tm_state_qn_prvphy'] = tm_state_qn_prvphy_m\n",
    "dsa['tm_state_qn_prvphy'] = tm_state_qn_prvphy_a\n",
    "dsi['tm_state_qn_prvphy'] = tm_state_qn_prvphy_i\n",
    "\n",
    "tm_state_q0002_prvphy_m = dsm['state_q0002_prvphy'].copy()\n",
    "tm_state_q0002_prvphy_a = dsa['state_q0002_prvphy'].copy()\n",
    "tm_state_q0002_prvphy_i = dsi['state_q0002_prvphy'].copy()\n",
    "dsm['tm_state_q0002_prvphy'] = tm_state_q0002_prvphy_m\n",
    "dsa['tm_state_q0002_prvphy'] = tm_state_q0002_prvphy_a\n",
    "dsi['tm_state_q0002_prvphy'] = tm_state_q0002_prvphy_i\n",
    "\n",
    "tm_state_q0003_prvphy_m = dsm['state_q0003_prvphy'].copy()\n",
    "tm_state_q0003_prvphy_a = dsa['state_q0003_prvphy'].copy()\n",
    "tm_state_q0003_prvphy_i = dsi['state_q0003_prvphy'].copy()\n",
    "dsm['tm_state_q0003_prvphy'] = tm_state_q0003_prvphy_m\n",
    "dsa['tm_state_q0003_prvphy'] = tm_state_q0003_prvphy_a\n",
    "dsi['tm_state_q0003_prvphy'] = tm_state_q0003_prvphy_i\n",
    "\n",
    "tm_state_u_prvphy_m = dsm['state_u_prvphy'].copy()\n",
    "tm_state_u_prvphy_a = dsa['state_u_prvphy'].copy()\n",
    "tm_state_u_prvphy_i = dsi['state_u_prvphy'].copy()\n",
    "dsm['tm_state_u_prvphy'] = tm_state_u_prvphy_m\n",
    "dsa['tm_state_u_prvphy'] = tm_state_u_prvphy_a\n",
    "dsi['tm_state_u_prvphy'] = tm_state_u_prvphy_i"
   ]
  },
  {
   "cell_type": "code",
   "execution_count": 8,
   "id": "ebb614a1-eb0b-47d5-aa5c-8433f37e8fd6",
   "metadata": {
    "tags": []
   },
   "outputs": [],
   "source": [
    "# 'pbuf_SOLIN', #range (set 0 mean)\n",
    "# 'pbuf_LHFLX', #range (set 0 mean)\n",
    "# 'pbuf_SHFLX',#range (set 0 mean)\n",
    "\n",
    "\n",
    "dsm['pbuf_SOLIN'] = 0.0\n",
    "dsm['pbuf_LHFLX'] = 0.0\n",
    "dsm['pbuf_SHFLX'] = 0.0\n",
    "\n",
    "# 'cam_in_ICEFRAC', #no change\n",
    "# 'cam_in_LANDFRAC', #no change\n",
    "# 'cam_in_OCNFRAC', #no change\n",
    "\n",
    "\n",
    "dsm['cam_in_ICEFRAC'] = 0.0\n",
    "dsa['cam_in_ICEFRAC'] = 1.0\n",
    "dsi['cam_in_ICEFRAC'] = 0.0\n",
    "\n",
    "dsm['cam_in_LANDFRAC'] = 0.0\n",
    "dsa['cam_in_LANDFRAC'] = 1.0\n",
    "dsi['cam_in_LANDFRAC'] = 0.0\n",
    "\n",
    "dsm['cam_in_OCNFRAC'] = 0.0\n",
    "dsa['cam_in_OCNFRAC'] = 1.0\n",
    "dsi['cam_in_OCNFRAC'] = 0.0"
   ]
  },
  {
   "cell_type": "code",
   "execution_count": 9,
   "id": "717a6dc3-151f-4a69-8f78-da53212566ed",
   "metadata": {
    "tags": []
   },
   "outputs": [],
   "source": [
    "# 'tm_state_ps',\n",
    "# 'tm_pbuf_SOLIN',\n",
    "# 'tm_pbuf_LHFLX',\n",
    "# 'tm_pbuf_SHFLX',\n",
    "# 'tm_pbuf_COSZRS', # no change\n",
    "# 'clat', # no change\n",
    "# 'slat',# no change\n",
    "# 'icol',] # no change\n",
    "\n",
    "tm_state_ps_m = dsm['state_ps'].copy()\n",
    "tm_state_ps_a = dsa['state_ps'].copy()\n",
    "tm_state_ps_i = dsi['state_ps'].copy()\n",
    "dsm['tm_state_ps'] = tm_state_ps_m\n",
    "dsa['tm_state_ps'] = tm_state_ps_a\n",
    "dsi['tm_state_ps'] = tm_state_ps_i\n",
    "\n",
    "tm_pbuf_SOLIN_m = dsm['pbuf_SOLIN'].copy()\n",
    "tm_pbuf_SOLIN_a = dsa['pbuf_SOLIN'].copy()\n",
    "tm_pbuf_SOLIN_i = dsi['pbuf_SOLIN'].copy()\n",
    "dsm['tm_pbuf_SOLIN'] = tm_pbuf_SOLIN_m\n",
    "dsa['tm_pbuf_SOLIN'] = tm_pbuf_SOLIN_a\n",
    "dsi['tm_pbuf_SOLIN'] = tm_pbuf_SOLIN_i\n",
    "\n",
    "tm_pbuf_LHFLX_m = dsm['pbuf_LHFLX'].copy()\n",
    "tm_pbuf_LHFLX_a = dsa['pbuf_LHFLX'].copy()\n",
    "tm_pbuf_LHFLX_i = dsi['pbuf_LHFLX'].copy()\n",
    "dsm['tm_pbuf_LHFLX'] = tm_pbuf_LHFLX_m\n",
    "dsa['tm_pbuf_LHFLX'] = tm_pbuf_LHFLX_a\n",
    "dsi['tm_pbuf_LHFLX'] = tm_pbuf_LHFLX_i\n",
    "\n",
    "tm_pbuf_SHFLX_m = dsm['pbuf_SHFLX'].copy()\n",
    "tm_pbuf_SHFLX_a = dsa['pbuf_SHFLX'].copy()\n",
    "tm_pbuf_SHFLX_i = dsi['pbuf_SHFLX'].copy()\n",
    "dsm['tm_pbuf_SHFLX'] = tm_pbuf_SHFLX_m\n",
    "dsa['tm_pbuf_SHFLX'] = tm_pbuf_SHFLX_a\n",
    "dsi['tm_pbuf_SHFLX'] = tm_pbuf_SHFLX_i\n",
    "\n",
    "tm_pbuf_COSZRS_m = dsm['pbuf_COSZRS'].copy()\n",
    "tm_pbuf_COSZRS_a = dsa['pbuf_COSZRS'].copy()\n",
    "tm_pbuf_COSZRS_i = dsi['pbuf_COSZRS'].copy()\n",
    "dsm['tm_pbuf_COSZRS'] = tm_pbuf_COSZRS_m\n",
    "dsa['tm_pbuf_COSZRS'] = tm_pbuf_COSZRS_a\n",
    "dsi['tm_pbuf_COSZRS'] = tm_pbuf_COSZRS_i\n",
    "\n",
    "dsm['clat'] = 0.0\n",
    "dsa['clat'] = 1.0\n",
    "dsi['clat'] = 0.0\n",
    "\n",
    "dsm['slat'] = 0.0\n",
    "dsa['slat'] = 1.0\n",
    "dsi['slat'] = 0.0\n",
    "\n",
    "dsm['icol'] = 0.0\n",
    "dsa['icol'] = 1.0\n",
    "dsi['icol'] = 0.0"
   ]
  },
  {
   "cell_type": "code",
   "execution_count": 10,
   "id": "e2594c9f-f766-4b4a-bc1a-10749bfc110b",
   "metadata": {
    "tags": []
   },
   "outputs": [],
   "source": [
    "liq_partition_m = dsm['state_t'].copy()\n",
    "liq_partition_a = dsa['state_t'].copy()\n",
    "liq_partition_i = dsi['state_t'].copy()\n",
    "liq_partition_m[:]= 0.0\n",
    "liq_partition_a[:]= 1.0\n",
    "liq_partition_i[:]= 0.0\n",
    "dsm['liq_partition'] = liq_partition_m\n",
    "dsa['liq_partition'] = liq_partition_a\n",
    "dsi['liq_partition'] = liq_partition_i"
   ]
  },
  {
   "cell_type": "markdown",
   "id": "28245326-28df-462f-b68f-df0184378f80",
   "metadata": {},
   "source": [
    "## saving the updated input scaling files"
   ]
  },
  {
   "cell_type": "code",
   "execution_count": 11,
   "id": "1781c377-4015-47aa-87e9-307bdcefb3d6",
   "metadata": {
    "tags": []
   },
   "outputs": [],
   "source": [
    "# climsim_path = '/global/u2/z/zeyuanhu/nvidia_codes/Climsim_private/'\n",
    "# norm_path = climsim_path+'/preprocessing/normalizations/'\n",
    "# dsm.to_netcdf(norm_path + 'inputs/input_mean_v5_pervar.nc')\n",
    "# dsa.to_netcdf(norm_path + 'inputs/input_max_v5_pervar.nc')\n",
    "# dsi.to_netcdf(norm_path + 'inputs/input_min_v5_pervar.nc')\n",
    "\n",
    "#below are example paths\n",
    "climsim_path = '/global/u2/z/zeyuanhu/nvidia_codes/climsim_tests'\n",
    "norm_path = climsim_path+'/normalization/'\n",
    "dsm.to_netcdf(norm_path + 'inputs/input_mean_v5_pervar.nc')\n",
    "dsa.to_netcdf(norm_path + 'inputs/input_max_v5_pervar.nc')\n",
    "dsi.to_netcdf(norm_path + 'inputs/input_min_v5_pervar.nc')"
   ]
  },
  {
   "cell_type": "code",
   "execution_count": null,
   "id": "1b6e9fdf-4fb6-44b4-bce0-e2db1db20a3d",
   "metadata": {},
   "outputs": [],
   "source": []
  }
 ],
 "metadata": {
  "kernelspec": {
   "display_name": "climsim",
   "language": "python",
   "name": "climsim"
  },
  "language_info": {
   "codemirror_mode": {
    "name": "ipython",
    "version": 3
   },
   "file_extension": ".py",
   "mimetype": "text/x-python",
   "name": "python",
   "nbconvert_exporter": "python",
   "pygments_lexer": "ipython3",
   "version": "3.10.14"
  }
 },
 "nbformat": 4,
 "nbformat_minor": 5
}
