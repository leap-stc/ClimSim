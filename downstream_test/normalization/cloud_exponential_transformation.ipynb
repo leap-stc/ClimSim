{
 "cells": [
  {
   "cell_type": "markdown",
   "id": "300e5dee-9ce2-49a8-bb45-3e15a4141ec0",
   "metadata": {},
   "source": [
    "# Cloud exponential transformation"
   ]
  },
  {
   "cell_type": "code",
   "execution_count": 1,
   "id": "3c6e51a6-7d86-476f-91ee-9761388cb9a4",
   "metadata": {
    "tags": []
   },
   "outputs": [
    {
     "name": "stderr",
     "output_type": "stream",
     "text": [
      "/global/homes/z/zeyuanhu/.conda/envs/climsim/lib/python3.10/site-packages/IPython/core/magics/osm.py:417: UserWarning: This is now an optional IPython functionality, setting dhist requires you to install the `pickleshare` library.\n",
      "  self.shell.db['dhist'] = compress_dhist(dhist)[-100:]\n"
     ]
    },
    {
     "name": "stdout",
     "output_type": "stream",
     "text": [
      "/global/u2/z/zeyuanhu/nvidia_codes/Climsim_private\n"
     ]
    },
    {
     "name": "stderr",
     "output_type": "stream",
     "text": [
      "2024-06-18 11:34:46.475622: E external/local_xla/xla/stream_executor/cuda/cuda_dnn.cc:9261] Unable to register cuDNN factory: Attempting to register factory for plugin cuDNN when one has already been registered\n",
      "2024-06-18 11:34:46.475724: E external/local_xla/xla/stream_executor/cuda/cuda_fft.cc:607] Unable to register cuFFT factory: Attempting to register factory for plugin cuFFT when one has already been registered\n",
      "2024-06-18 11:34:46.536857: E external/local_xla/xla/stream_executor/cuda/cuda_blas.cc:1515] Unable to register cuBLAS factory: Attempting to register factory for plugin cuBLAS when one has already been registered\n",
      "2024-06-18 11:34:46.685209: I tensorflow/core/platform/cpu_feature_guard.cc:182] This TensorFlow binary is optimized to use available CPU instructions in performance-critical operations.\n",
      "To enable the following instructions: AVX2 FMA, in other operations, rebuild TensorFlow with the appropriate compiler flags.\n",
      "2024-06-18 11:34:49.108652: W tensorflow/compiler/tf2tensorrt/utils/py_utils.cc:38] TF-TRT Warning: Could not find TensorRT\n"
     ]
    }
   ],
   "source": [
    "import numpy as np\n",
    "import xarray as xr\n",
    "import matplotlib.pyplot as plt\n",
    "import h5py\n",
    "%cd /global/u2/z/zeyuanhu/nvidia_codes/Climsim_private\n",
    "from climsim_utils.data_utils import *"
   ]
  },
  {
   "cell_type": "markdown",
   "id": "4a554403-1465-42f0-af38-bccd44f5919b",
   "metadata": {},
   "source": [
    "## read the liquid cloud, ice cloud and/or total cloud"
   ]
  },
  {
   "cell_type": "code",
   "execution_count": 3,
   "id": "91a55faa-f51a-4643-b27d-6f7476c385d2",
   "metadata": {
    "tags": []
   },
   "outputs": [],
   "source": [
    "# this example here will use read in the training data and read the input cloud liquid/ice.\n",
    "# we saved the whole unnormalized training data into 14 folder named 11, 12,21,22,...,71,72\n",
    "# the example below will use half of the training data. The data here basically subsamples the full 7-year training data with a stride of 2.\n",
    "\n",
    "cases = ['11', '21', '31', '41', '51', '61', '71']\n",
    "\n",
    "# Initialize an empty list to store data arrays\n",
    "data_list_liquid = []\n",
    "data_list_ice = []\n",
    "\n",
    "# Loop over each data file\n",
    "for case in cases:\n",
    "    file_path = f'/global/homes/z/zeyuanhu/scratch/hugging/E3SM-MMF_ne4/preprocessing/v4_full/{case}/train_input.h5'\n",
    "    with h5py.File(file_path, 'r') as file:\n",
    "        data_list_liquid.append(file['data'][:, 120:180])\n",
    "        data_list_ice.append(file['data'][:, 180:240])\n",
    "\n",
    "# Concatenate all data arrays along the first dimension\n",
    "xin_liquid = np.concatenate(data_list_liquid, axis=0)\n",
    "xin_ice = np.concatenate(data_list_ice, axis=0)\n",
    "xin_total = xin_liquid + xin_ice"
   ]
  },
  {
   "cell_type": "markdown",
   "id": "cac17a52-0b57-4c64-b2fe-883f456c264a",
   "metadata": {},
   "source": [
    "## calculate and save exponential parameter"
   ]
  },
  {
   "cell_type": "code",
   "execution_count": 5,
   "id": "fbd985fc-00ab-4634-acfa-ac5fa56f6fb1",
   "metadata": {
    "tags": []
   },
   "outputs": [
    {
     "name": "stderr",
     "output_type": "stream",
     "text": [
      "/tmp/ipykernel_61631/1480905936.py:9: RuntimeWarning: Mean of empty slice.\n",
      "  lbd_qc[i] = 1./(datac[datac>1e-7].mean())\n",
      "/global/homes/z/zeyuanhu/.conda/envs/climsim/lib/python3.10/site-packages/numpy/core/_methods.py:129: RuntimeWarning: invalid value encountered in divide\n",
      "  ret = ret.dtype.type(ret / rcount)\n",
      "/tmp/ipykernel_61631/1480905936.py:10: RuntimeWarning: Mean of empty slice.\n",
      "  lbd_qi[i] = 1./(datai[datai>1e-7].mean())\n",
      "/tmp/ipykernel_61631/1480905936.py:11: RuntimeWarning: Mean of empty slice.\n",
      "  lbd_qn[i] = 1./(datan[datan>1e-7].mean())\n"
     ]
    }
   ],
   "source": [
    "lbd_qc = np.zeros(60)\n",
    "lbd_qi = np.zeros(60)\n",
    "lbd_qn = np.zeros(60)\n",
    "\n",
    "for i in range(60):\n",
    "    datac = xin_liquid[:,i]\n",
    "    datai = xin_ice[:,i]\n",
    "    datan = xin_total[:,i]\n",
    "    lbd_qc[i] = 1./(datac[datac>1e-7].mean())\n",
    "    lbd_qi[i] = 1./(datai[datai>1e-7].mean())\n",
    "    lbd_qn[i] = 1./(datan[datan>1e-7].mean())"
   ]
  },
  {
   "cell_type": "code",
   "execution_count": 7,
   "id": "21db9c85-3041-4215-9665-d1e9e4bcf000",
   "metadata": {
    "tags": []
   },
   "outputs": [],
   "source": [
    "lbd_qc[np.isnan(lbd_qc)] = 1e7\n",
    "lbd_qi[np.isnan(lbd_qi)] = 1e7\n",
    "lbd_qn[np.isnan(lbd_qn)] = 1e7"
   ]
  },
  {
   "cell_type": "code",
   "execution_count": 11,
   "id": "37014a9f-a097-4759-a484-5667d95a2817",
   "metadata": {
    "tags": []
   },
   "outputs": [],
   "source": [
    "fmt = '%.6e'\n",
    "climsim_path = '/global/u2/z/zeyuanhu/nvidia_codes/climsim_tests'\n",
    "norm_path = climsim_path+'/normalization/'\n",
    "np.savetxt(norm_path + '/qc_exp_lambda_large.txt', lbd_qc.reshape(1, -1), fmt=fmt, delimiter=',')\n",
    "np.savetxt(norm_path + '/qi_exp_lambda_large.txt', lbd_qi.reshape(1, -1), fmt=fmt, delimiter=',')\n",
    "np.savetxt(norm_path + '/qn_exp_lambda_large.txt', lbd_qn.reshape(1, -1), fmt=fmt, delimiter=',')"
   ]
  },
  {
   "cell_type": "markdown",
   "id": "fecbcbcf-8b60-492f-a7fb-bdce8d98ee7b",
   "metadata": {},
   "source": [
    "Note that in preprocessing/normalizations/inputs/, there the qn_exp_lambda_large.txt was calculated like above, but qi_exp_lambda_large.txt and qc_exp_lambda_large.txt were calculated based on a 7-step-subsampled version of training data and will has slight difference to what is calculated in this notebook. If you want to exactly reproduce our Unet training, simply use the files under preprocessing/normalizations/inputs/"
   ]
  },
  {
   "cell_type": "code",
   "execution_count": null,
   "id": "a99c16d6-a9ea-440e-9afc-49ec178d5312",
   "metadata": {},
   "outputs": [],
   "source": []
  },
  {
   "cell_type": "code",
   "execution_count": 8,
   "id": "8640c0ab-2938-423f-bbe7-070fdbf26bf5",
   "metadata": {
    "tags": []
   },
   "outputs": [
    {
     "data": {
      "text/plain": [
       "array([10000000.        , 10000000.        , 10000000.        ,\n",
       "       10000000.        , 10000000.        , 10000000.        ,\n",
       "       10000000.        , 10000000.        , 10000000.        ,\n",
       "       10000000.        , 10000000.        ,  7556905.1099813 ,\n",
       "        3240294.53811436,  4409304.29170528,  5388911.78320826,\n",
       "        1414189.69398583,   444847.03675674,   550036.71076073,\n",
       "         452219.47765234,   243545.07231263,   163264.17204164,\n",
       "         128850.88117789,   108392.13699281,    96868.6539061 ,\n",
       "          90154.39383647,    83498.67423248,    76720.52614694,\n",
       "          70937.79468155,    66821.0327278 ,    63916.46591524,\n",
       "          61597.41430156,    60417.96523765,    60359.64347926,\n",
       "          60430.76970212,    59696.934318  ,    58222.94889662,\n",
       "          56637.11031175,    54844.45378425,    52735.80221775,\n",
       "          50450.11987115,    47895.00010132,    45134.95219383,\n",
       "          42075.52757738,    38557.91174999,    34843.47468245,\n",
       "          31537.88963513,    29179.71520305,    28016.06440645,\n",
       "          27844.86770893,    28377.06256804,    29532.22068928,\n",
       "          31360.65252559,    34174.61235695,    38452.69084769,\n",
       "          44777.29680978,    53238.52542881,    61797.74325549,\n",
       "          66939.83519617,    70867.57480034,    94733.63482142])"
      ]
     },
     "execution_count": 8,
     "metadata": {},
     "output_type": "execute_result"
    }
   ],
   "source": [
    "lbd_qn"
   ]
  },
  {
   "cell_type": "code",
   "execution_count": 9,
   "id": "f2e6c571-160c-491f-8787-7bb64b86e95b",
   "metadata": {
    "tags": []
   },
   "outputs": [
    {
     "data": {
      "text/plain": [
       "array([10000000.        , 10000000.        , 10000000.        ,\n",
       "       10000000.        , 10000000.        , 10000000.        ,\n",
       "       10000000.        , 10000000.        , 10000000.        ,\n",
       "       10000000.        , 10000000.        ,  7556905.1099813 ,\n",
       "        3240294.53811436,  4409304.29170528,  5388911.78320826,\n",
       "        1414189.69398583,   444847.03675674,   550036.71076073,\n",
       "         452219.47765234,   243545.07231263,   163264.17204164,\n",
       "         128850.88117789,   108392.13699281,    96868.6539061 ,\n",
       "          90154.39383647,    83498.67423248,    76720.52614694,\n",
       "          70937.87706283,    66851.27198026,    64579.78345685,\n",
       "          64987.05874437,    68963.77227883,    75498.91605962,\n",
       "          82745.37660119,    89624.52634008,    96373.41157796,\n",
       "         102381.42808207,   102890.33417304,    96849.77123401,\n",
       "          92727.78368907,    91320.9721545 ,    91240.30382044,\n",
       "          91448.65004889,    91689.26513737,    91833.1829058 ,\n",
       "          91941.15859653,    92144.1029509 ,    92628.38565183,\n",
       "          93511.1538428 ,    94804.20080999,    96349.5878153 ,\n",
       "          98174.89731264,   100348.81479455,   102750.86508174,\n",
       "         105013.71207426,   106732.83687405,   107593.00387448,\n",
       "         108022.91061398,   109634.8552567 ,   112259.85403167])"
      ]
     },
     "execution_count": 9,
     "metadata": {},
     "output_type": "execute_result"
    }
   ],
   "source": [
    "lbd_qi"
   ]
  },
  {
   "cell_type": "code",
   "execution_count": 10,
   "id": "ad1ef83b-03a5-4924-99a3-bed8acba6f33",
   "metadata": {
    "tags": []
   },
   "outputs": [
    {
     "data": {
      "text/plain": [
       "array([10000000.        , 10000000.        , 10000000.        ,\n",
       "       10000000.        , 10000000.        , 10000000.        ,\n",
       "       10000000.        , 10000000.        , 10000000.        ,\n",
       "       10000000.        , 10000000.        , 10000000.        ,\n",
       "       10000000.        , 10000000.        , 10000000.        ,\n",
       "       10000000.        , 10000000.        , 10000000.        ,\n",
       "       10000000.        , 10000000.        , 10000000.        ,\n",
       "       10000000.        , 10000000.        , 10000000.        ,\n",
       "       10000000.        , 10000000.        ,  2410793.53754872,\n",
       "        3462644.65436088,  1594172.20270602,   328086.13752288,\n",
       "         154788.55435228,   118712.37335602,   104208.42410058,\n",
       "          95801.11739569,    89619.52961093,    83709.51800851,\n",
       "          78846.75613935,    74622.76219094,    70555.95112947,\n",
       "          66436.67119096,    61797.61126943,    56926.03823691,\n",
       "          51838.00818631,    46355.21691466,    40874.23574077,\n",
       "          36196.39550842,    32935.40953052,    31290.83140741,\n",
       "          30908.27330462,    31386.06558422,    32606.7350768 ,\n",
       "          34631.09245739,    37847.88977875,    42878.24049123,\n",
       "          50560.90175672,    61294.98389768,    72912.41450047,\n",
       "          80998.32102651,    88376.7321416 ,   135468.13760583])"
      ]
     },
     "execution_count": 10,
     "metadata": {},
     "output_type": "execute_result"
    }
   ],
   "source": [
    "lbd_qc"
   ]
  },
  {
   "cell_type": "markdown",
   "id": "72cd633c-c935-46ec-83b3-0749f021804f",
   "metadata": {},
   "source": [
    "## More visualization on the exponential transformation"
   ]
  },
  {
   "cell_type": "markdown",
   "id": "c63c27af-304c-4753-bab0-3b8795474688",
   "metadata": {},
   "source": [
    "We will transform cloud feature through qc’ = 1 - exp(-qc * 𝜆). 𝜆 is the exponential parameter, estimated as 1/(data[data>threshold].mean()). If input feature is indeed a exponential distribution, then this transformation will convert it to a uniform distribution between (0,1). In the calculation above, we have a threshold=1e-7 to select only the cloudy grids that has non-trivial amount of cloud mass. Below is a visualization of cloud feature distribution before and after transformation.\n"
   ]
  },
  {
   "cell_type": "code",
   "execution_count": 13,
   "id": "d37919a5-3c4f-4995-9c81-c5e92322e0dd",
   "metadata": {
    "tags": []
   },
   "outputs": [
    {
     "data": {
      "image/png": "[encoded data removed]",
      "text/plain": [
       "<Figure size 640x480 with 1 Axes>"
      ]
     },
     "metadata": {},
     "output_type": "display_data"
    },
    {
     "data": {
      "image/png": "[encoded data removed]",
      "text/plain": [
       "<Figure size 640x480 with 1 Axes>"
      ]
     },
     "metadata": {},
     "output_type": "display_data"
    }
   ],
   "source": [
    "# take liquid cloud at level 50 for example\n",
    "qc = xin_liquid[:,50]\n",
    "qc_trans = 1 - np.exp(-qc * lbd_qc[50])\n",
    "plt.hist(qc)\n",
    "plt.title(f'Liquid cloud at lev=50 before transformation')\n",
    "plt.show()\n",
    "\n",
    "plt.hist(qc_trans)\n",
    "plt.title(f'Liquid cloud at lev=50 after transformation')\n",
    "plt.show()"
   ]
  },
  {
   "cell_type": "code",
   "execution_count": null,
   "id": "cf879306-d768-4bcd-a3ed-ec71f3e30836",
   "metadata": {},
   "outputs": [],
   "source": []
  }
 ],
 "metadata": {
  "kernelspec": {
   "display_name": "climsim",
   "language": "python",
   "name": "climsim"
  },
  "language_info": {
   "codemirror_mode": {
    "name": "ipython",
    "version": 3
   },
   "file_extension": ".py",
   "mimetype": "text/x-python",
   "name": "python",
   "nbconvert_exporter": "python",
   "pygments_lexer": "ipython3",
   "version": "3.10.14"
  }
 },
 "nbformat": 4,
 "nbformat_minor": 5
}
