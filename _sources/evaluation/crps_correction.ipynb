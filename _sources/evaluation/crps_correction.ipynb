{
 "cells": [
  {
   "cell_type": "markdown",
   "metadata": {},
   "source": [
    "### Importing packages and data_utils.py"
   ]
  },
  {
   "cell_type": "code",
   "execution_count": 1,
   "metadata": {},
   "outputs": [
    {
     "name": "stderr",
     "output_type": "stream",
     "text": [
      "2024-01-11 23:54:07.996403: I tensorflow/core/platform/cpu_feature_guard.cc:182] This TensorFlow binary is optimized to use available CPU instructions in performance-critical operations.\n",
      "To enable the following instructions: AVX2 FMA, in other operations, rebuild TensorFlow with the appropriate compiler flags.\n",
      "2024-01-11 23:54:27.010805: W tensorflow/compiler/tf2tensorrt/utils/py_utils.cc:38] TF-TRT Warning: Could not find TensorRT\n"
     ]
    }
   ],
   "source": [
    "from climsim_utils.data_utils import *"
   ]
  },
  {
   "cell_type": "markdown",
   "metadata": {},
   "source": [
    "### Instantiate class"
   ]
  },
  {
   "cell_type": "code",
   "execution_count": 2,
   "metadata": {},
   "outputs": [],
   "source": [
    "grid_path = '/ocean/projects/atm200007p/jlin96/ClimSim/grid_info/ClimSim_low-res_grid-info.nc'\n",
    "norm_path = '/ocean/projects/atm200007p/jlin96/ClimSim/preprocessing/normalizations/'\n",
    "\n",
    "grid_info = xr.open_dataset(grid_path)\n",
    "input_mean = xr.open_dataset(norm_path + 'inputs/input_mean.nc')\n",
    "input_max = xr.open_dataset(norm_path + 'inputs/input_max.nc')\n",
    "input_min = xr.open_dataset(norm_path + 'inputs/input_min.nc')\n",
    "output_scale = xr.open_dataset(norm_path + 'outputs/output_scale.nc')\n",
    "\n",
    "data = data_utils(grid_info = grid_info,\n",
    "                  input_mean = input_mean,\n",
    "                  input_max = input_max,\n",
    "                  input_min = input_min,\n",
    "                  output_scale = output_scale)\n",
    "\n",
    "# set variables to V1 subset\n",
    "data.set_to_v1_vars()"
   ]
  },
  {
   "cell_type": "markdown",
   "metadata": {},
   "source": [
    "### Load scoring data"
   ]
  },
  {
   "cell_type": "code",
   "execution_count": 3,
   "metadata": {},
   "outputs": [],
   "source": [
    "data.model_names = ['HSR', 'RPN', 'cVAE']\n",
    "\n",
    "scoring_input_path = \"/ocean/projects/atm200007p/jlin96/neurips_proj/e3sm_train_npy/scoring_input.npy\"\n",
    "scoring_target_path = \"/ocean/projects/atm200007p/jlin96/neurips_proj/e3sm_train_npy/scoring_target.npy\"\n",
    "\n",
    "# path to target input\n",
    "data.input_scoring = np.load(scoring_input_path)\n",
    "\n",
    "# path to target output\n",
    "data.target_scoring = np.load(scoring_target_path)\n",
    "\n",
    "data.set_pressure_grid(data_split = 'scoring')\n",
    "\n",
    "data.reweight_target(data_split = 'scoring')"
   ]
  },
  {
   "cell_type": "markdown",
   "metadata": {},
   "source": [
    "### Load samples"
   ]
  },
  {
   "cell_type": "code",
   "execution_count": 4,
   "metadata": {},
   "outputs": [],
   "source": [
    "cvae_samples_path = '/ocean/projects/atm200007p/jlin96/neurips_proj/shared_folder/final_metrics/predictions/cVAE/cvae_samples_manual.h5'\n",
    "hsr_samples_path = '/ocean/projects/atm200007p/jlin96/neurips_proj/crps_ingredients/hsr_samples_bestcrps.h5'\n",
    "rpn_samples_path = '/ocean/projects/atm200007p/jlin96/neurips_proj/crps_ingredients/RPN_crps_32_samples.npy'\n",
    "\n",
    "cvae_color = '#D55E00'\n",
    "hsr_color = '#E69F00'\n",
    "rpn_color = '#009E73'"
   ]
  },
  {
   "cell_type": "code",
   "execution_count": 5,
   "metadata": {},
   "outputs": [],
   "source": [
    "hsr_samples = data_utils.load_h5_file(hsr_samples_path)\n",
    "hsr_samples = np.expand_dims(data.output_weighting(hsr_samples[:,:,0], data_split = 'scoring', just_weights = True), axis = -1) * hsr_samples"
   ]
  },
  {
   "cell_type": "code",
   "execution_count": 25,
   "metadata": {},
   "outputs": [
    {
     "data": {
      "text/plain": [
       "(1681920, 128, 32)"
      ]
     },
     "execution_count": 25,
     "metadata": {},
     "output_type": "execute_result"
    }
   ],
   "source": [
    "hsr_samples.shape"
   ]
  },
  {
   "cell_type": "code",
   "execution_count": 6,
   "metadata": {},
   "outputs": [],
   "source": [
    "rpn_samples = data_utils.load_npy_file(rpn_samples_path)\n",
    "rpn_samples = np.expand_dims(data.output_weighting(rpn_samples[:,:,0], data_split = 'scoring', just_weights = True), axis = -1) * rpn_samples"
   ]
  },
  {
   "cell_type": "code",
   "execution_count": 26,
   "metadata": {},
   "outputs": [
    {
     "data": {
      "text/plain": [
       "(1681920, 128, 32)"
      ]
     },
     "execution_count": 26,
     "metadata": {},
     "output_type": "execute_result"
    }
   ],
   "source": [
    "rpn_samples.shape"
   ]
  },
  {
   "cell_type": "code",
   "execution_count": 7,
   "metadata": {},
   "outputs": [],
   "source": [
    "cvae_samples = (data_utils.load_h5_file(cvae_samples_path))[:,:,:32]\n",
    "cvae_samples = np.expand_dims(data.output_weighting(cvae_samples[:,:,0], data_split = 'scoring', just_weights = True), axis = -1) * cvae_samples"
   ]
  },
  {
   "cell_type": "code",
   "execution_count": 27,
   "metadata": {},
   "outputs": [
    {
     "data": {
      "text/plain": [
       "(1681920, 128, 32)"
      ]
     },
     "execution_count": 27,
     "metadata": {},
     "output_type": "execute_result"
    }
   ],
   "source": [
    "cvae_samples.shape"
   ]
  },
  {
   "cell_type": "markdown",
   "metadata": {},
   "source": [
    "### Define useful functions"
   ]
  },
  {
   "cell_type": "code",
   "execution_count": 8,
   "metadata": {},
   "outputs": [],
   "source": [
    "num_samples = 1681920\n",
    "\n",
    "def reshape_output(output, var):\n",
    "    if var == 'ptend_t':\n",
    "        ans = output.reshape((int(num_samples/data.num_latlon), data.num_latlon, 60))\n",
    "    elif var == 'ptend_q0001':\n",
    "        ans = output.reshape((int(num_samples/data.num_latlon), data.num_latlon, 60))\n",
    "    elif var == 'netsw':\n",
    "        ans = output.reshape((int(num_samples/data.num_latlon), data.num_latlon))\n",
    "    elif var == 'flwds':\n",
    "        ans = output.reshape((int(num_samples/data.num_latlon), data.num_latlon))\n",
    "    elif var == 'precsc':\n",
    "        ans = output.reshape((int(num_samples/data.num_latlon), data.num_latlon))\n",
    "    elif var == 'precc':\n",
    "        ans = output.reshape((int(num_samples/data.num_latlon), data.num_latlon))\n",
    "    elif var == 'sols':\n",
    "        ans = output.reshape((int(num_samples/data.num_latlon), data.num_latlon))\n",
    "    elif var == 'soll':\n",
    "        ans = output.reshape((int(num_samples/data.num_latlon), data.num_latlon))\n",
    "    elif var == 'solsd':\n",
    "        ans = output.reshape((int(num_samples/data.num_latlon), data.num_latlon))\n",
    "    elif var == 'solld':\n",
    "        ans = output.reshape((int(num_samples/data.num_latlon), data.num_latlon))\n",
    "    return ans\n",
    "\n",
    "def reshape_samplepreds(samplepreds, var, num_crps):\n",
    "    if var == 'ptend_t':\n",
    "        ans = np.concatenate([np.expand_dims(reshape_output(samplepreds[:,:60,crps_idx], var), -1) for crps_idx in range(num_crps)], axis = -1)\n",
    "    elif var == 'ptend_q0001':\n",
    "        ans = np.concatenate([np.expand_dims(reshape_output(samplepreds[:,60:120,crps_idx], var), -1) for crps_idx in range(num_crps)], axis = -1)\n",
    "    elif var == 'netsw':\n",
    "        ans = np.concatenate([np.expand_dims(reshape_output(samplepreds[:,120,crps_idx], var), -1) for crps_idx in range(num_crps)], axis = -1)\n",
    "    elif var == 'flwds':\n",
    "        ans = np.concatenate([np.expand_dims(reshape_output(samplepreds[:,121,crps_idx], var), -1) for crps_idx in range(num_crps)], axis = -1)\n",
    "    elif var == 'precsc':\n",
    "        ans = np.concatenate([np.expand_dims(reshape_output(samplepreds[:,122,crps_idx], var), -1) for crps_idx in range(num_crps)], axis = -1)\n",
    "    elif var == 'precc':\n",
    "        ans = np.concatenate([np.expand_dims(reshape_output(samplepreds[:,123,crps_idx], var), -1) for crps_idx in range(num_crps)], axis = -1)\n",
    "    elif var == 'sols':\n",
    "        ans = np.concatenate([np.expand_dims(reshape_output(samplepreds[:,124,crps_idx], var), -1) for crps_idx in range(num_crps)], axis = -1)\n",
    "    elif var == 'soll':\n",
    "        ans = np.concatenate([np.expand_dims(reshape_output(samplepreds[:,125,crps_idx], var), -1) for crps_idx in range(num_crps)], axis = -1)\n",
    "    elif var == 'solsd':\n",
    "        ans = np.concatenate([np.expand_dims(reshape_output(samplepreds[:,126,crps_idx], var), -1) for crps_idx in range(num_crps)], axis = -1)\n",
    "    elif var == 'solld':\n",
    "        ans = np.concatenate([np.expand_dims(reshape_output(samplepreds[:,127,crps_idx], var), -1) for crps_idx in range(num_crps)], axis = -1)\n",
    "    return ans"
   ]
  },
  {
   "cell_type": "markdown",
   "metadata": {},
   "source": [
    "### Calculate CRPS"
   ]
  },
  {
   "cell_type": "code",
   "execution_count": 9,
   "metadata": {},
   "outputs": [],
   "source": [
    "hsr_ptend_t_samples = reshape_samplepreds(hsr_samples, 'ptend_t', 32)\n",
    "hsr_ptend_q0001_samples = reshape_samplepreds(hsr_samples, 'ptend_q0001', 32)\n",
    "hsr_netsw_samples = reshape_samplepreds(hsr_samples, 'netsw', 32)\n",
    "hsr_flwds_samples = reshape_samplepreds(hsr_samples, 'flwds', 32)\n",
    "hsr_precsc_samples = reshape_samplepreds(hsr_samples, 'precsc', 32)\n",
    "hsr_precc_samples = reshape_samplepreds(hsr_samples, 'precc', 32)\n",
    "hsr_sols_samples = reshape_samplepreds(hsr_samples, 'sols', 32)\n",
    "hsr_soll_samples = reshape_samplepreds(hsr_samples, 'soll', 32)\n",
    "hsr_solsd_samples = reshape_samplepreds(hsr_samples, 'solsd', 32)\n",
    "hsr_solld_samples = reshape_samplepreds(hsr_samples, 'solld', 32)\n",
    "\n",
    "hsr_ptend_t_CRPS = data.calc_CRPS(hsr_ptend_t_samples, data.target_weighted_scoring['ptend_t'])\n",
    "hsr_ptend_q0001_CRPS = data.calc_CRPS(hsr_ptend_q0001_samples, data.target_weighted_scoring['ptend_q0001'])\n",
    "hsr_netsw_CRPS = data.calc_CRPS(hsr_netsw_samples, data.target_weighted_scoring['cam_out_NETSW'])\n",
    "hsr_flwds_CRPS = data.calc_CRPS(hsr_flwds_samples, data.target_weighted_scoring['cam_out_FLWDS'])\n",
    "hsr_precsc_CRPS = data.calc_CRPS(hsr_precsc_samples, data.target_weighted_scoring['cam_out_PRECSC'])\n",
    "hsr_precc_CRPS = data.calc_CRPS(hsr_precc_samples, data.target_weighted_scoring['cam_out_PRECC'])\n",
    "hsr_sols_CRPS = data.calc_CRPS(hsr_sols_samples, data.target_weighted_scoring['cam_out_SOLS'])\n",
    "hsr_soll_CRPS = data.calc_CRPS(hsr_soll_samples, data.target_weighted_scoring['cam_out_SOLL'])\n",
    "hsr_solsd_CRPS = data.calc_CRPS(hsr_solsd_samples, data.target_weighted_scoring['cam_out_SOLSD'])\n",
    "hsr_solld_CRPS = data.calc_CRPS(hsr_solld_samples, data.target_weighted_scoring['cam_out_SOLLD'])"
   ]
  },
  {
   "cell_type": "code",
   "execution_count": 10,
   "metadata": {},
   "outputs": [],
   "source": [
    "rpn_ptend_t_samples = reshape_samplepreds(rpn_samples, 'ptend_t', 32)\n",
    "rpn_ptend_q0001_samples = reshape_samplepreds(rpn_samples, 'ptend_q0001', 32)\n",
    "rpn_netsw_samples = reshape_samplepreds(rpn_samples, 'netsw', 32)\n",
    "rpn_flwds_samples = reshape_samplepreds(rpn_samples, 'flwds', 32)\n",
    "rpn_precsc_samples = reshape_samplepreds(rpn_samples, 'precsc', 32)\n",
    "rpn_precc_samples = reshape_samplepreds(rpn_samples, 'precc', 32)\n",
    "rpn_sols_samples = reshape_samplepreds(rpn_samples, 'sols', 32)\n",
    "rpn_soll_samples = reshape_samplepreds(rpn_samples, 'soll', 32)\n",
    "rpn_solsd_samples = reshape_samplepreds(rpn_samples, 'solsd', 32)\n",
    "rpn_solld_samples = reshape_samplepreds(rpn_samples, 'solld', 32)\n",
    "\n",
    "rpn_ptend_t_CRPS = data.calc_CRPS(rpn_ptend_t_samples, data.target_weighted_scoring['ptend_t'])\n",
    "rpn_ptend_q0001_CRPS = data.calc_CRPS(rpn_ptend_q0001_samples, data.target_weighted_scoring['ptend_q0001'])\n",
    "rpn_netsw_CRPS = data.calc_CRPS(rpn_netsw_samples, data.target_weighted_scoring['cam_out_NETSW'])\n",
    "rpn_flwds_CRPS = data.calc_CRPS(rpn_flwds_samples, data.target_weighted_scoring['cam_out_FLWDS'])\n",
    "rpn_precsc_CRPS = data.calc_CRPS(rpn_precsc_samples, data.target_weighted_scoring['cam_out_PRECSC'])\n",
    "rpn_precc_CRPS = data.calc_CRPS(rpn_precc_samples, data.target_weighted_scoring['cam_out_PRECC'])\n",
    "rpn_sols_CRPS = data.calc_CRPS(rpn_sols_samples, data.target_weighted_scoring['cam_out_SOLS'])\n",
    "rpn_soll_CRPS = data.calc_CRPS(rpn_soll_samples, data.target_weighted_scoring['cam_out_SOLL'])\n",
    "rpn_solsd_CRPS = data.calc_CRPS(rpn_solsd_samples, data.target_weighted_scoring['cam_out_SOLSD'])\n",
    "rpn_solld_CRPS = data.calc_CRPS(rpn_solld_samples, data.target_weighted_scoring['cam_out_SOLLD'])"
   ]
  },
  {
   "cell_type": "code",
   "execution_count": 11,
   "metadata": {},
   "outputs": [],
   "source": [
    "cvae_ptend_t_samples = reshape_samplepreds(cvae_samples, 'ptend_t', 32)\n",
    "cvae_ptend_q0001_samples = reshape_samplepreds(cvae_samples, 'ptend_q0001', 32)\n",
    "cvae_netsw_samples = reshape_samplepreds(cvae_samples, 'netsw', 32)\n",
    "cvae_flwds_samples = reshape_samplepreds(cvae_samples, 'flwds', 32)\n",
    "cvae_precsc_samples = reshape_samplepreds(cvae_samples, 'precsc', 32)\n",
    "cvae_precc_samples = reshape_samplepreds(cvae_samples, 'precc', 32)\n",
    "cvae_sols_samples = reshape_samplepreds(cvae_samples, 'sols', 32)\n",
    "cvae_soll_samples = reshape_samplepreds(cvae_samples, 'soll', 32)\n",
    "cvae_solsd_samples = reshape_samplepreds(cvae_samples, 'solsd', 32)\n",
    "cvae_solld_samples = reshape_samplepreds(cvae_samples, 'solld', 32)\n",
    "\n",
    "cvae_ptend_t_CRPS = data.calc_CRPS(cvae_ptend_t_samples, data.target_weighted_scoring['ptend_t'])\n",
    "cvae_ptend_q0001_CRPS = data.calc_CRPS(cvae_ptend_q0001_samples, data.target_weighted_scoring['ptend_q0001'])\n",
    "cvae_netsw_CRPS = data.calc_CRPS(cvae_netsw_samples, data.target_weighted_scoring['cam_out_NETSW'])\n",
    "cvae_flwds_CRPS = data.calc_CRPS(cvae_flwds_samples, data.target_weighted_scoring['cam_out_FLWDS'])\n",
    "cvae_precsc_CRPS = data.calc_CRPS(cvae_precsc_samples, data.target_weighted_scoring['cam_out_PRECSC'])\n",
    "cvae_precc_CRPS = data.calc_CRPS(cvae_precc_samples, data.target_weighted_scoring['cam_out_PRECC'])\n",
    "cvae_sols_CRPS = data.calc_CRPS(cvae_sols_samples, data.target_weighted_scoring['cam_out_SOLS'])\n",
    "cvae_soll_CRPS = data.calc_CRPS(cvae_soll_samples, data.target_weighted_scoring['cam_out_SOLL'])\n",
    "cvae_solsd_CRPS = data.calc_CRPS(cvae_solsd_samples, data.target_weighted_scoring['cam_out_SOLSD'])\n",
    "cvae_solld_CRPS = data.calc_CRPS(cvae_solld_samples, data.target_weighted_scoring['cam_out_SOLLD'])"
   ]
  },
  {
   "cell_type": "code",
   "execution_count": 12,
   "metadata": {},
   "outputs": [
    {
     "data": {
      "text/plain": [
       "Text(0.5, 1.0, 'CRPS (dT/dt)')"
      ]
     },
     "execution_count": 12,
     "metadata": {},
     "output_type": "execute_result"
    },
    {
     "data": {
      "image/png": "[encoded data removed]",
      "text/plain": [
       "<Figure size 800x400 with 1 Axes>"
      ]
     },
     "metadata": {},
     "output_type": "display_data"
    }
   ],
   "source": [
    "plt.figure(figsize=(8, 4)) \n",
    "plt.plot(range(60), hsr_ptend_t_CRPS, label='HSR', color = hsr_color)\n",
    "plt.plot(range(60), rpn_ptend_t_CRPS, label='RPN', color = rpn_color)\n",
    "plt.plot(range(60), cvae_ptend_t_CRPS, label='cVAE', color = cvae_color)\n",
    "plt.xlabel('Level index')\n",
    "plt.ylabel('W/m2')\n",
    "plt.title('CRPS (dT/dt)')\n",
    "# plt.legend()"
   ]
  },
  {
   "cell_type": "code",
   "execution_count": 13,
   "metadata": {},
   "outputs": [
    {
     "data": {
      "text/plain": [
       "array([2.64452935e-03, 2.62259536e-03, 3.80022113e-03, 4.86215301e-03,\n",
       "       7.45524467e-03, 1.12186575e-02, 1.48110997e-02, 1.97469571e-02,\n",
       "       2.56030249e-02, 3.79131149e-02, 4.16331403e-02, 4.21578507e-02,\n",
       "       4.49252704e-02, 5.25611830e-02, 6.44821604e-02, 6.40285799e-02,\n",
       "       1.15790195e-01, 2.78318768e-01, 5.40925068e-01, 7.68572293e-01,\n",
       "       8.46902240e-01, 9.29146575e-01, 1.03093596e+00, 1.14888729e+00,\n",
       "       1.30091135e+00, 1.43560211e+00, 1.56100070e+00, 1.70676086e+00,\n",
       "       1.88747335e+00, 2.10736974e+00, 2.37875430e+00, 2.66745272e+00,\n",
       "       2.97644476e+00, 3.29229892e+00, 3.61910917e+00, 3.92998254e+00,\n",
       "       4.22204569e+00, 4.47800955e+00, 4.66151217e+00, 4.80172402e+00,\n",
       "       4.88693905e+00, 4.92602307e+00, 4.95234906e+00, 4.98099050e+00,\n",
       "       4.99478430e+00, 4.93281328e+00, 4.77531842e+00, 4.53262090e+00,\n",
       "       4.21879157e+00, 3.87347592e+00, 3.56581612e+00, 3.28067996e+00,\n",
       "       3.04011914e+00, 2.85616712e+00, 2.71504728e+00, 2.61665419e+00,\n",
       "       2.56434924e+00, 2.56500244e+00, 2.69494925e+00, 3.38535910e+00])"
      ]
     },
     "execution_count": 13,
     "metadata": {},
     "output_type": "execute_result"
    }
   ],
   "source": [
    "hsr_ptend_t_CRPS"
   ]
  },
  {
   "cell_type": "code",
   "execution_count": 14,
   "metadata": {},
   "outputs": [
    {
     "data": {
      "text/plain": [
       "array([8.09964351e-04, 1.94716185e-03, 3.45817254e-03, 6.54526780e-03,\n",
       "       1.37499075e-02, 2.17844239e-02, 3.12240854e-02, 3.77118824e-02,\n",
       "       4.12006289e-02, 4.54857911e-02, 4.94234480e-02, 5.10133683e-02,\n",
       "       5.20660057e-02, 5.26658885e-02, 5.43752132e-02, 6.18095680e-02,\n",
       "       1.05158905e-01, 2.54482834e-01, 5.17439077e-01, 7.59229387e-01,\n",
       "       8.29922268e-01, 8.93504699e-01, 9.91376195e-01, 1.10632890e+00,\n",
       "       1.24901516e+00, 1.38096908e+00, 1.52380101e+00, 1.67711088e+00,\n",
       "       1.85900792e+00, 2.08165654e+00, 2.34792719e+00, 2.63909608e+00,\n",
       "       2.96056568e+00, 3.28343686e+00, 3.63642409e+00, 3.99187348e+00,\n",
       "       4.33325467e+00, 4.65474340e+00, 4.91395158e+00, 5.13129435e+00,\n",
       "       5.27743743e+00, 5.36710211e+00, 5.44562990e+00, 5.50487780e+00,\n",
       "       5.54348760e+00, 5.49845180e+00, 5.35335941e+00, 5.12674556e+00,\n",
       "       4.83402520e+00, 4.48294656e+00, 4.13121992e+00, 3.79465017e+00,\n",
       "       3.49792496e+00, 3.25633417e+00, 3.05329123e+00, 2.90173964e+00,\n",
       "       2.81120951e+00, 2.76672406e+00, 2.83641975e+00, 3.19446069e+00])"
      ]
     },
     "execution_count": 14,
     "metadata": {},
     "output_type": "execute_result"
    }
   ],
   "source": [
    "rpn_ptend_t_CRPS"
   ]
  },
  {
   "cell_type": "code",
   "execution_count": 15,
   "metadata": {},
   "outputs": [
    {
     "data": {
      "text/plain": [
       "array([8.73251791e-04, 1.82944418e-03, 2.59602388e-03, 4.98618027e-03,\n",
       "       9.27286520e-03, 1.54885789e-02, 2.16360736e-02, 2.78262043e-02,\n",
       "       3.11512068e-02, 3.56638606e-02, 4.15719036e-02, 4.81151372e-02,\n",
       "       5.48963976e-02, 6.06409983e-02, 6.40892402e-02, 7.46607576e-02,\n",
       "       1.23532845e-01, 2.94368780e-01, 5.99660039e-01, 8.91111511e-01,\n",
       "       9.62408267e-01, 1.05344993e+00, 1.17383893e+00, 1.33361987e+00,\n",
       "       1.50452877e+00, 1.66700591e+00, 1.85627993e+00, 2.07086629e+00,\n",
       "       2.31267073e+00, 2.59162985e+00, 2.93833552e+00, 3.30010166e+00,\n",
       "       3.70140378e+00, 4.05909270e+00, 4.45709469e+00, 4.85383785e+00,\n",
       "       5.22464445e+00, 5.54421089e+00, 5.79971407e+00, 5.99600738e+00,\n",
       "       6.13013040e+00, 6.20302929e+00, 6.22904537e+00, 6.26992189e+00,\n",
       "       6.29354662e+00, 6.24879344e+00, 6.06184758e+00, 5.79858610e+00,\n",
       "       5.43666272e+00, 5.01841036e+00, 4.64440306e+00, 4.26873462e+00,\n",
       "       3.95764705e+00, 3.72004347e+00, 3.52004583e+00, 3.35474043e+00,\n",
       "       3.30504244e+00, 3.31031664e+00, 3.52735633e+00, 4.37139096e+00])"
      ]
     },
     "execution_count": 15,
     "metadata": {},
     "output_type": "execute_result"
    }
   ],
   "source": [
    "cvae_ptend_t_CRPS"
   ]
  },
  {
   "cell_type": "code",
   "execution_count": 16,
   "metadata": {},
   "outputs": [
    {
     "data": {
      "text/plain": [
       "Text(0.5, 1.0, 'CRPS (dq/dt)')"
      ]
     },
     "execution_count": 16,
     "metadata": {},
     "output_type": "execute_result"
    },
    {
     "data": {
      "image/png": "[encoded data removed]",
      "text/plain": [
       "<Figure size 800x400 with 1 Axes>"
      ]
     },
     "metadata": {},
     "output_type": "display_data"
    }
   ],
   "source": [
    "plt.figure(figsize=(8, 4)) \n",
    "plt.plot(range(60), hsr_ptend_q0001_CRPS, label = 'HSR', color = hsr_color)\n",
    "plt.plot(range(60), rpn_ptend_q0001_CRPS, label = 'RPN', color = rpn_color)\n",
    "plt.plot(range(60), cvae_ptend_q0001_CRPS, label = 'cVAE', color = cvae_color)\n",
    "plt.xlabel('Level index')\n",
    "plt.ylabel('W/m2')\n",
    "plt.title('CRPS (dq/dt)')\n",
    "# plt.legend()"
   ]
  },
  {
   "cell_type": "code",
   "execution_count": 17,
   "metadata": {},
   "outputs": [
    {
     "data": {
      "text/plain": [
       "array([5.91876853e-05, 1.04959436e-04, 1.68845968e-04, 1.74949440e-03,\n",
       "       6.81680016e-04, 9.91993158e-04, 1.71901841e-03, 3.26753244e-03,\n",
       "       3.58093021e-03, 5.59118996e-03, 7.91893069e-03, 5.15031182e-03,\n",
       "       1.31706706e-02, 1.54653721e-02, 1.31548503e-02, 2.12900722e-02,\n",
       "       2.67473831e-02, 1.68643820e-02, 2.60039708e-02, 2.96670790e-02,\n",
       "       3.46873626e-02, 5.27539712e-02, 9.63887427e-02, 1.81258559e-01,\n",
       "       2.91777641e-01, 4.55155273e-01, 6.05374931e-01, 7.98121883e-01,\n",
       "       1.01309153e+00, 1.27143289e+00, 1.58108658e+00, 1.94682603e+00,\n",
       "       2.37836475e+00, 2.87280540e+00, 3.45209550e+00, 4.10820473e+00,\n",
       "       4.84679373e+00, 5.62947681e+00, 6.44143740e+00, 7.24594675e+00,\n",
       "       8.05400953e+00, 8.84623452e+00, 9.57766476e+00, 1.02086921e+01,\n",
       "       1.07734240e+01, 1.11358787e+01, 1.12212589e+01, 1.10221591e+01,\n",
       "       1.05864436e+01, 9.98777575e+00, 9.39087405e+00, 8.83900577e+00,\n",
       "       8.34792147e+00, 7.90393833e+00, 7.44943612e+00, 6.97091981e+00,\n",
       "       6.40733399e+00, 5.75098370e+00, 5.42324696e+00, 5.27723774e+00])"
      ]
     },
     "execution_count": 17,
     "metadata": {},
     "output_type": "execute_result"
    }
   ],
   "source": [
    "hsr_ptend_q0001_CRPS"
   ]
  },
  {
   "cell_type": "code",
   "execution_count": 18,
   "metadata": {},
   "outputs": [
    {
     "data": {
      "text/plain": [
       "array([3.40730596e-10, 5.61185885e-10, 6.45184232e-10, 3.71230677e-10,\n",
       "       3.14881271e-02, 5.02170995e-02, 7.91551132e-02, 1.18017579e-01,\n",
       "       1.68248735e-01, 2.33405164e-01, 3.10370405e-01, 3.96284437e-01,\n",
       "       1.01036175e-05, 1.60295806e-05, 5.04251994e-05, 2.55841947e-04,\n",
       "       4.79451226e-04, 8.82631098e-04, 2.04812778e-03, 6.13299709e-03,\n",
       "       1.68607408e-02, 3.93416906e-02, 8.44382965e-02, 1.58559831e-01,\n",
       "       2.74708498e-01, 4.28071054e-01, 6.05209989e-01, 8.00583888e-01,\n",
       "       1.01809612e+00, 1.27330493e+00, 1.59577652e+00, 1.98336223e+00,\n",
       "       2.44371024e+00, 2.98081634e+00, 3.62782334e+00, 4.35832239e+00,\n",
       "       5.20564538e+00, 6.10774489e+00, 7.06134747e+00, 7.99619094e+00,\n",
       "       8.96011807e+00, 9.84402778e+00, 1.06749944e+01, 1.13822753e+01,\n",
       "       1.20188274e+01, 1.25013864e+01, 1.26585143e+01, 1.25310623e+01,\n",
       "       1.22009955e+01, 1.16785519e+01, 1.10468428e+01, 1.04040428e+01,\n",
       "       9.80328542e+00, 9.26384797e+00, 8.69389060e+00, 8.04823983e+00,\n",
       "       7.25744061e+00, 6.46039679e+00, 5.80303232e+00, 5.32519781e+00])"
      ]
     },
     "execution_count": 18,
     "metadata": {},
     "output_type": "execute_result"
    }
   ],
   "source": [
    "rpn_ptend_q0001_CRPS"
   ]
  },
  {
   "cell_type": "code",
   "execution_count": 19,
   "metadata": {},
   "outputs": [
    {
     "data": {
      "text/plain": [
       "array([2.38887855e-06, 8.54347880e-07, 3.17527340e-06, 3.57854577e-06,\n",
       "       1.80049206e-03, 7.45940442e-06, 1.29068954e-05, 1.53249336e-05,\n",
       "       6.16248936e-05, 7.07374324e-05, 9.31743853e-05, 4.90586105e-04,\n",
       "       1.29350923e-04, 4.30518152e-03, 1.65271882e-04, 3.16288283e-04,\n",
       "       7.09750531e-04, 1.27209939e-03, 2.66572413e-03, 7.76113908e-03,\n",
       "       2.03678923e-02, 4.74471816e-02, 9.83229162e-02, 1.83063393e-01,\n",
       "       3.17926972e-01, 4.92780541e-01, 6.99577139e-01, 9.36043123e-01,\n",
       "       1.20982773e+00, 1.53156909e+00, 1.91679350e+00, 2.36387001e+00,\n",
       "       2.89090582e+00, 3.49966088e+00, 4.21652028e+00, 5.00510359e+00,\n",
       "       5.90094702e+00, 6.84137350e+00, 7.85464920e+00, 8.84301222e+00,\n",
       "       9.82413787e+00, 1.07975745e+01, 1.17560773e+01, 1.25744629e+01,\n",
       "       1.33906258e+01, 1.38730797e+01, 1.41238527e+01, 1.40093977e+01,\n",
       "       1.35530910e+01, 1.28991969e+01, 1.22253231e+01, 1.15516052e+01,\n",
       "       1.08704487e+01, 1.02788397e+01, 9.64517617e+00, 8.96440076e+00,\n",
       "       8.15856570e+00, 7.29145414e+00, 6.79578552e+00, 6.42782251e+00])"
      ]
     },
     "execution_count": 19,
     "metadata": {},
     "output_type": "execute_result"
    }
   ],
   "source": [
    "cvae_ptend_q0001_CRPS"
   ]
  },
  {
   "cell_type": "code",
   "execution_count": 20,
   "metadata": {},
   "outputs": [
    {
     "name": "stdout",
     "output_type": "stream",
     "text": [
      "CRPS for HSR\n",
      "ptend_t\n",
      "2.1580774343531792\n",
      "ptend_q0001\n",
      "3.6445144552173825\n",
      "netsw\n",
      "14.620414442990606\n",
      "flwds\n",
      "4.560824417480576\n",
      "precsc\n",
      "2.9048409310019667\n",
      "precc\n",
      "34.297920290994476\n",
      "sols\n",
      "8.369402740664123\n",
      "soll\n",
      "10.138460986732461\n",
      "solsd\n",
      "4.773135360907154\n",
      "solld\n",
      "4.598501530273872\n"
     ]
    }
   ],
   "source": [
    "print(\"CRPS for HSR\")\n",
    "print('ptend_t')\n",
    "print(np.mean(hsr_ptend_t_CRPS))\n",
    "print('ptend_q0001')\n",
    "print(np.mean(hsr_ptend_q0001_CRPS))\n",
    "print('netsw')\n",
    "print(hsr_netsw_CRPS)\n",
    "print('flwds')\n",
    "print(hsr_flwds_CRPS)\n",
    "print('precsc')\n",
    "print(hsr_precsc_CRPS)\n",
    "print('precc')\n",
    "print(hsr_precc_CRPS)\n",
    "print('sols')\n",
    "print(hsr_sols_CRPS)\n",
    "print('soll')\n",
    "print(hsr_soll_CRPS)\n",
    "print('solsd')\n",
    "print(hsr_solsd_CRPS)\n",
    "print('solld')\n",
    "print(hsr_solld_CRPS)"
   ]
  },
  {
   "cell_type": "code",
   "execution_count": 21,
   "metadata": {},
   "outputs": [
    {
     "name": "stdout",
     "output_type": "stream",
     "text": [
      "CRPS for RPN\n",
      "ptend_t\n",
      "2.3054146410932317\n",
      "ptend_q0001\n",
      "4.10023245444231\n",
      "netsw\n",
      "14.817277832474153\n",
      "flwds\n",
      "4.430497646630767\n",
      "precsc\n",
      "2.7289959221787274\n",
      "precc\n",
      "30.08300604728733\n",
      "sols\n",
      "8.30868859878903\n",
      "soll\n",
      "10.4874380675445\n",
      "solsd\n",
      "4.649343743252384\n",
      "solld\n",
      "4.682123812871824\n"
     ]
    }
   ],
   "source": [
    "print(\"CRPS for RPN\")\n",
    "print('ptend_t')\n",
    "print(np.mean(rpn_ptend_t_CRPS))\n",
    "print('ptend_q0001')\n",
    "print(np.mean(rpn_ptend_q0001_CRPS))\n",
    "print('netsw')\n",
    "print(rpn_netsw_CRPS)\n",
    "print('flwds')\n",
    "print(rpn_flwds_CRPS)\n",
    "print('precsc')\n",
    "print(rpn_precsc_CRPS)\n",
    "print('precc')\n",
    "print(rpn_precc_CRPS)\n",
    "print('sols')\n",
    "print(rpn_sols_CRPS)\n",
    "print('soll')\n",
    "print(rpn_soll_CRPS)\n",
    "print('solsd')\n",
    "print(rpn_solsd_CRPS)\n",
    "print('solld')\n",
    "print(rpn_solld_CRPS)"
   ]
  },
  {
   "cell_type": "code",
   "execution_count": 22,
   "metadata": {},
   "outputs": [
    {
     "name": "stdout",
     "output_type": "stream",
     "text": [
      "CRPS for cVAE\n",
      "ptend_t\n",
      "2.707906789582796\n",
      "ptend_q0001\n",
      "4.56500945022936\n",
      "netsw\n",
      "20.529120573006654\n",
      "flwds\n",
      "6.732408880589889\n",
      "precsc\n",
      "3.5132942979190234\n",
      "precc\n",
      "40.16616853117693\n",
      "sols\n",
      "11.90870472223168\n",
      "soll\n",
      "14.42338355955961\n",
      "solsd\n",
      "5.944789868900808\n",
      "solld\n",
      "5.9253716615661745\n"
     ]
    }
   ],
   "source": [
    "print(\"CRPS for cVAE\")\n",
    "print('ptend_t')\n",
    "print(np.mean(cvae_ptend_t_CRPS))\n",
    "print('ptend_q0001')\n",
    "print(np.mean(cvae_ptend_q0001_CRPS))\n",
    "print('netsw')\n",
    "print(cvae_netsw_CRPS)\n",
    "print('flwds')\n",
    "print(cvae_flwds_CRPS)\n",
    "print('precsc')\n",
    "print(cvae_precsc_CRPS)\n",
    "print('precc')\n",
    "print(cvae_precc_CRPS)\n",
    "print('sols')\n",
    "print(cvae_sols_CRPS)\n",
    "print('soll')\n",
    "print(cvae_soll_CRPS)\n",
    "print('solsd')\n",
    "print(cvae_solsd_CRPS)\n",
    "print('solld')\n",
    "print(cvae_solld_CRPS)"
   ]
  },
  {
   "cell_type": "code",
   "execution_count": 23,
   "metadata": {},
   "outputs": [],
   "source": [
    "# Define the categories and number of model groups\n",
    "categories = ['dT/dt', 'dq/dt', 'NETSW', 'FLWDS', 'PRECSC', 'PRECC', 'SOLS', 'SOLL', 'SOLSD', 'SOLLD']\n",
    "num_groups = 3\n",
    "colors = [hsr_color, rpn_color, cvae_color]\n",
    "values = np.zeros((num_groups, len(categories)))\n",
    "\n",
    "values[0,0] = np.mean(hsr_ptend_t_CRPS)\n",
    "values[1,0] = np.mean(rpn_ptend_t_CRPS)\n",
    "values[2,0] = np.mean(cvae_ptend_t_CRPS)\n",
    "\n",
    "values[0,1] = np.mean(hsr_ptend_q0001_CRPS)\n",
    "values[1,1] = np.mean(rpn_ptend_q0001_CRPS)\n",
    "values[2,1] = np.mean(cvae_ptend_q0001_CRPS)\n",
    "\n",
    "values[0,2] = hsr_netsw_CRPS\n",
    "values[1,2] = rpn_netsw_CRPS\n",
    "values[2,2] = cvae_netsw_CRPS\n",
    "\n",
    "values[0,3] = hsr_flwds_CRPS\n",
    "values[1,3] = rpn_flwds_CRPS\n",
    "values[2,3] = cvae_flwds_CRPS\n",
    "\n",
    "values[0,4] = hsr_precsc_CRPS\n",
    "values[1,4] = rpn_precsc_CRPS\n",
    "values[2,4] = cvae_precsc_CRPS\n",
    "\n",
    "values[0,5] = hsr_precc_CRPS\n",
    "values[1,5] = rpn_precc_CRPS\n",
    "values[2,5] = cvae_precc_CRPS\n",
    "\n",
    "values[0,6] = hsr_sols_CRPS\n",
    "values[1,6] = rpn_sols_CRPS\n",
    "values[2,6] = cvae_sols_CRPS\n",
    "\n",
    "values[0,7] = hsr_soll_CRPS\n",
    "values[1,7] = rpn_soll_CRPS\n",
    "values[2,7] = cvae_soll_CRPS\n",
    "\n",
    "values[0,8] = hsr_solsd_CRPS\n",
    "values[1,8] = rpn_solsd_CRPS\n",
    "values[2,8] = cvae_solsd_CRPS\n",
    "\n",
    "values[0,9] = hsr_solld_CRPS\n",
    "values[1,9] = rpn_solld_CRPS\n",
    "values[2,9] = cvae_solld_CRPS"
   ]
  },
  {
   "cell_type": "code",
   "execution_count": 24,
   "metadata": {},
   "outputs": [
    {
     "name": "stdout",
     "output_type": "stream",
     "text": [
      "  agg_filter: a filter function, which takes a (m, n, 3) float array and a dpi value, and returns a (m, n, 3) array\n",
      "  alpha: scalar or None\n",
      "  animated: bool\n",
      "  backgroundcolor: color\n",
      "  bbox: dict with properties for `.patches.FancyBboxPatch`\n",
      "  clip_box: `.Bbox`\n",
      "  clip_on: bool\n",
      "  clip_path: Patch or (Path, Transform) or None\n",
      "  color or c: color\n",
      "  figure: `.Figure`\n",
      "  fontfamily or family: {FONTNAME, 'serif', 'sans-serif', 'cursive', 'fantasy', 'monospace'}\n",
      "  fontproperties or font or font_properties: `.font_manager.FontProperties` or `str` or `pathlib.Path`\n",
      "  fontsize or size: float or {'xx-small', 'x-small', 'small', 'medium', 'large', 'x-large', 'xx-large'}\n",
      "  fontstretch or stretch: {a numeric value in range 0-1000, 'ultra-condensed', 'extra-condensed', 'condensed', 'semi-condensed', 'normal', 'semi-expanded', 'expanded', 'extra-expanded', 'ultra-expanded'}\n",
      "  fontstyle or style: {'normal', 'italic', 'oblique'}\n",
      "  fontvariant or variant: {'normal', 'small-caps'}\n",
      "  fontweight or weight: {a numeric value in range 0-1000, 'ultralight', 'light', 'normal', 'regular', 'book', 'medium', 'roman', 'semibold', 'demibold', 'demi', 'bold', 'heavy', 'extra bold', 'black'}\n",
      "  gid: str\n",
      "  horizontalalignment or ha: {'center', 'right', 'left'}\n",
      "  in_layout: bool\n",
      "  label: object\n",
      "  linespacing: float (multiple of font size)\n",
      "  math_fontfamily: str\n",
      "  multialignment or ma: {'left', 'right', 'center'}\n",
      "  parse_math: bool\n",
      "  path_effects: `.AbstractPathEffect`\n",
      "  picker: None or bool or float or callable\n",
      "  position: (float, float)\n",
      "  rasterized: bool\n",
      "  rotation: float or {'vertical', 'horizontal'}\n",
      "  rotation_mode: {None, 'default', 'anchor'}\n",
      "  sketch_params: (scale: float, length: float, randomness: float)\n",
      "  snap: bool or None\n",
      "  text: object\n",
      "  transform: `.Transform`\n",
      "  transform_rotates_text: bool\n",
      "  url: str\n",
      "  usetex: bool or None\n",
      "  verticalalignment or va: {'center', 'top', 'bottom', 'baseline', 'center_baseline'}\n",
      "  visible: bool\n",
      "  wrap: bool\n",
      "  x: float\n",
      "  y: float\n",
      "  zorder: float\n"
     ]
    },
    {
     "data": {
      "image/png": "[encoded data removed]",
      "text/plain": [
       "<Figure size 1000x300 with 1 Axes>"
      ]
     },
     "metadata": {},
     "output_type": "display_data"
    },
    {
     "data": {
      "text/plain": [
       "(None, './crps_bar_plot_corrected.png')"
      ]
     },
     "execution_count": 24,
     "metadata": {},
     "output_type": "execute_result"
    }
   ],
   "source": [
    "# Create the figure and the axes\n",
    "fig, ax = plt.subplots(figsize=(10, 3))\n",
    "\n",
    "pos = np.arange(len(categories))\n",
    "width = 0.1  # the width of the bars\n",
    "\n",
    "# Plot the bars for each model group\n",
    "for i in range(num_groups):\n",
    "    ax.bar(pos + i * width, values[i], width, label=f'Model {i+1}', color=colors[i])\n",
    "\n",
    "# Set the y-axis to log scale\n",
    "# ax.set_yscale('log')\n",
    "\n",
    "# Set the axis labels and title\n",
    "ax.set_ylabel('W/m2')\n",
    "\n",
    "# Set the x-axis category labels\n",
    "ax.set_xticks(pos + width * (num_groups - 1) / 2)\n",
    "ax.set_xticklabels(categories)\n",
    "\n",
    "# Add a legend\n",
    "# ax.legend()\n",
    "\n",
    "# Rotate the tick labels for better readability\n",
    "# plt.setp(ax.get_xticklabels(), rotation=45, ha=\"right\", rotation_mode=\"anchor\")\n",
    "plt.setp(ax.get_xticklabels())\n",
    "\n",
    "# Save the recreated plot to a file\n",
    "recreated_plot_path = './crps_bar_plot_corrected.png'\n",
    "# plt.savefig(recreated_plot_path)\n",
    "plt.show(), recreated_plot_path"
   ]
  },
  {
   "cell_type": "code",
   "execution_count": 28,
   "metadata": {},
   "outputs": [
    {
     "name": "stdout",
     "output_type": "stream",
     "text": [
      "/ocean/projects/atm200007p/jlin96/neurips_proj/crps_ingredients\n"
     ]
    }
   ],
   "source": [
    "!pwd"
   ]
  },
  {
   "cell_type": "code",
   "execution_count": null,
   "metadata": {},
   "outputs": [],
   "source": []
  }
 ],
 "metadata": {
  "kernelspec": {
   "display_name": "Python 3 (ipykernel)",
   "language": "python",
   "name": "python3"
  },
  "language_info": {
   "codemirror_mode": {
    "name": "ipython",
    "version": 3
   },
   "file_extension": ".py",
   "mimetype": "text/x-python",
   "name": "python",
   "nbconvert_exporter": "python",
   "pygments_lexer": "ipython3",
   "version": "3.9.13"
  }
 },
 "nbformat": 4,
 "nbformat_minor": 2
}
